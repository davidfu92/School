{
 "cells": [
  {
   "cell_type": "markdown",
   "metadata": {},
   "source": [
    "### CS584 Assignment 1 David Fu"
   ]
  },
  {
   "cell_type": "markdown",
   "metadata": {},
   "source": [
    "##### Packages and Imports"
   ]
  },
  {
   "cell_type": "code",
   "execution_count": 69,
   "metadata": {},
   "outputs": [],
   "source": [
    "import os\n",
    "import pandas as pd\n",
    "import re\n",
    "import math\n",
    "from nltk.corpus import stopwords\n",
    "from sklearn.feature_extraction.text import TfidfVectorizer\n",
    "from sklearn.linear_model import LogisticRegression\n",
    "from sklearn.model_selection import train_test_split\n",
    "from sklearn import metrics\n",
    "from keras.utils import to_categorical\n",
    "from sklearn.neural_network import MLPClassifier\n",
    "import numpy as np\n",
    "import matplotlib.pyplot as plt"
   ]
  },
  {
   "cell_type": "markdown",
   "metadata": {},
   "source": [
    "##### Text Processing functions"
   ]
  },
  {
   "cell_type": "code",
   "execution_count": 2,
   "metadata": {},
   "outputs": [],
   "source": [
    "\"\"\"\n",
    "READS Text File and return all of body as a string\n",
    "\"\"\"\n",
    "def read_input(input_path:str) -> str:\n",
    "    file_data = open(input_path , 'r')\n",
    "    \n",
    "    return file_data.read()"
   ]
  },
  {
   "cell_type": "code",
   "execution_count": 3,
   "metadata": {},
   "outputs": [],
   "source": [
    "\"\"\"\n",
    "Tokenize a text by double line breaks\n",
    "\"\"\"\n",
    "def line_break_tokenizer(input_text:str):\n",
    "    # Divide doc input by double line break\n",
    "    return input_text.split('\\n\\n')\n",
    "\"\"\"\n",
    "Tokenize a list of words into paragraph of count size\n",
    "\"\"\"\n",
    "def word_count_tokenizer(word_col, count):\n",
    "    # Divide word_list input by double line break\n",
    "    result = []\n",
    "    for i in range(0, len(word_col), count):\n",
    "        result.append(' '.join(word_col[i:i + count]))\n",
    "        \n",
    "    return result\n",
    "\"\"\"\n",
    "Use regex to remove punctuation, numbers and multi spaces\n",
    "\"\"\"\n",
    "def clean_text(text:str):\n",
    "    clean = re.sub('[\\W_]+', ' ', text.lower())\n",
    "    clean = re.sub('[\\d]+', ' ', clean)\n",
    "    \n",
    "    return re.sub(' +', ' ', clean)\n",
    "\"\"\"\n",
    "Preprocess of text\n",
    "\"\"\"\n",
    "def preprocess(doc, label, sample_size):\n",
    "    # Divide doc into multiple paragraphs by total word/sample_size\n",
    "    all_word = clean_text(doc).split()\n",
    "    paragraphs = word_count_tokenizer(all_word, math.ceil(len(all_word)/sample_size))\n",
    "    # Create the df with classification\n",
    "    labels = np.ones((sample_size,)) * label\n",
    "    df = pd.DataFrame({'paragraph': paragraphs, 'label': labels })\n",
    "    \n",
    "    return df, df.count() + 1"
   ]
  },
  {
   "cell_type": "markdown",
   "metadata": {},
   "source": [
    "##### TF-IDF Calculation"
   ]
  },
  {
   "cell_type": "code",
   "execution_count": 4,
   "metadata": {},
   "outputs": [],
   "source": [
    "def convert_to_mat(index):\n",
    "    mat = np.zeros((index.size, index.max()+1))\n",
    "    mat[np.arange(index.size),index] = 1\n",
    "    \n",
    "    return mat\n",
    "\n",
    "def computeTF(word_list, doc_size):\n",
    "    tfDict = []\n",
    "    for i  in range(0, len(word_list)):\n",
    "        dicts = {}\n",
    "        for word, count in word_list[i].items():\n",
    "            dicts[word] = count / float(doc_size)\n",
    "        tfDict.append(dicts)\n",
    "        \n",
    "    return tfDict\n",
    "\n",
    "def computeIDF(documents, final_word_list):\n",
    "    N = len(documents)\n",
    "    \n",
    "    idfDict = dict.fromkeys(final_word_list, 0)\n",
    "    for document in documents:\n",
    "        for word, val in document.items():\n",
    "            if val > 0:\n",
    "                idfDict[word] += 1\n",
    "    \n",
    "    for word, val in idfDict.items():\n",
    "        if(val != 0):\n",
    "            idfDict[word] = float(math.log(float(N) / float(val)))\n",
    "        else:\n",
    "            idfDict[word] = 0\n",
    "            \n",
    "    return idfDict\n",
    "\n",
    "def computeTFIDF(doc_word, idfs, key):\n",
    "    tfidf = []\n",
    "    for i  in range(len(doc_word)):\n",
    "        dicts = {}\n",
    "        for word, val in doc_word[i].items():\n",
    "            dicts[word] = val * idfs[word]\n",
    "        dicts['123'] = key\n",
    "        tfidf.append(dicts)\n",
    "        \n",
    "    return tfidf"
   ]
  },
  {
   "cell_type": "markdown",
   "metadata": {},
   "source": [
    "##### Logistic Regression & Gradient Descent"
   ]
  },
  {
   "cell_type": "code",
   "execution_count": 5,
   "metadata": {},
   "outputs": [],
   "source": [
    "def guess(weight, x):\n",
    "    return np.dot(weight, x.T)\n",
    "\n",
    "def softmax(val):\n",
    "    exp = np.exp(val - np.max(val, axis=1).reshape((-1,1)))\n",
    "    dem = np.sum(exp, axis=1).reshape((-1,1))\n",
    "    \n",
    "    return exp / dem\n",
    "\n",
    "def softmax2(val):\n",
    "    return np.divide(np.exp(val), np.sum(val))\n",
    "\n",
    "def training_lost(theta, x, y):\n",
    "    feature = x.shape[0]\n",
    "    net_lost = np.dot((guess(theta, x) - y).T, guess(theta, x) - y)/feature\n",
    "    \n",
    "    return net_lost[0]\n",
    "\n",
    "def training_lost2(weight, x_val, y_val, alpha):\n",
    "    theta = guess(weight, x_val)\n",
    "    soft = softmax(theta)\n",
    "    \n",
    "    log_soft = np.log(soft)\n",
    "    ylog = -np.multiply(y_val.T,log_soft)\n",
    "    \n",
    "    sum_y = np.sum(ylog, axis = 0)\n",
    "    \n",
    "    error = np.mean(sum_y)\n",
    "    reg = alpha * np.sum(weight * weight)\n",
    "    training_lost = error + reg\n",
    "    \n",
    "    return training_lost\n",
    "\n",
    "def create_batch(x, y, size):\n",
    "    batches = []\n",
    "    indices = np.arange(x.shape[0])\n",
    "    np.random.shuffle(indices)\n",
    "\n",
    "    for i in range(0, x.shape[0] - size + 1, size):\n",
    "        mini = indices[i:i + size]\n",
    "        yield x[mini], y[mini]"
   ]
  },
  {
   "cell_type": "code",
   "execution_count": 6,
   "metadata": {},
   "outputs": [],
   "source": [
    "def mini_gradient(weight, x_input, y_input, alpha, batch):\n",
    "    theta = guess(weight, x_input)\n",
    "    max_val = softmax(theta)\n",
    "    log_soft = np.log(max_val)\n",
    "    \n",
    "    ylog_p = -np.multiply(y_input.T, log_soft)\n",
    "    lost = np.mean(np.sum(ylog_p, axis = 0))\n",
    "    \n",
    "    reg = alpha * np.sum(weight * weight)\n",
    "    obj = lost + reg\n",
    "    \n",
    "    matrix = max_val - y_input.T\n",
    "    gradient_lost = np.dot(matrix, x_input)\n",
    "    gradient = gradient_lost + 2 * alpha * weight\n",
    "    \n",
    "    return obj, gradient\n",
    "\n",
    "def mini_batch_sgd(x_input, y_input, batch, step_size, alpha=.01, max_epoch=100, weight=None):    \n",
    "    nx, d = x_input.shape\n",
    "    ny, k = y_input.shape\n",
    "    values = np.zeros(max_epoch)\n",
    "    lost = np.zeros(max_epoch)\n",
    "    \n",
    "    if weight is None:\n",
    "        weight = np.random.random_sample((k, d))\n",
    "    \n",
    "    for step in range(max_epoch):\n",
    "        value = 0\n",
    "        for mini in create_batch(x_input, y_input, batch):\n",
    "            mini_x, mini_y = mini\n",
    "            obj, gradient = mini_gradient(weight, mini_x, mini_y, alpha, batch)\n",
    "            value += obj\n",
    "            weight -= stepsize * gradient\n",
    "        values /= int(nx/batch)\n",
    "        values[step] = value\n",
    "        lost[step] = training_lost2(weight, x_input, y_input, alpha)\n",
    "        \n",
    "    return weight, values, lost"
   ]
  },
  {
   "cell_type": "code",
   "execution_count": 7,
   "metadata": {},
   "outputs": [],
   "source": [
    "def stochastic_gradient(weight, x_input, y_input, alpha):\n",
    "    k, d = weight.shape\n",
    "    x_input.shape = (1,d)\n",
    "    y_input.shape = (1,k)\n",
    "\n",
    "    theta = guess(weight, x_input)\n",
    "    max_val = softmax(theta)\n",
    "    log_soft = np.log(max_val)\n",
    "    \n",
    "    ylog_p = -np.multiply(y_input.T,log_soft)\n",
    "    lost = np.sum(ylog_p)\n",
    "    \n",
    "    reg = alpha * np.sum(weight * weight)\n",
    "    obj = lost + reg\n",
    "    \n",
    "    matrix = max_val - y_input.T\n",
    "    matrix = matrix.reshape(k,1)\n",
    "    x_input = x_input.reshape(1,d)\n",
    "    gradient_lost = matrix * x_input\n",
    "    gradient = gradient_lost + 2 * alpha * weight\n",
    "    \n",
    "    return obj, gradient\n",
    "\n",
    "def sgd(x_input, y_input, stepsize, alpha=.01, max_epoch=100, weight=None):\n",
    "    n, d = x_input.shape\n",
    "    n, k = y_input.shape\n",
    "    values = np.zeros(max_epoch)\n",
    "    lost = np.zeros(max_epoch)\n",
    "    \n",
    "    if weight is None:\n",
    "        weight = np.random.random_sample((k, d)) # initialization w\n",
    "    \n",
    "    for step in range(max_epoch):\n",
    "        \n",
    "        value = 0\n",
    "        for i in range(n):\n",
    "            xi = x_input[i, :]\n",
    "            yi = y_input[i, :]\n",
    "            obj, gradient = stochastic_gradient(weight, xi, yi, alpha)\n",
    "            value += obj\n",
    "            weight -= stepsize * gradient\n",
    "        \n",
    "        value /= n\n",
    "        values[step] = value\n",
    "        lost[step] = training_lost2(weight, x_input, y_input, alpha)\n",
    "    \n",
    "    return weight, values, lost"
   ]
  },
  {
   "cell_type": "code",
   "execution_count": 8,
   "metadata": {},
   "outputs": [],
   "source": [
    "#\n",
    "#Fyodor Dostoyevsky\n",
    "#"
   ]
  },
  {
   "cell_type": "code",
   "execution_count": 9,
   "metadata": {
    "scrolled": true
   },
   "outputs": [],
   "source": [
    "data_folder = './data/'\n",
    "file_nameA = 'FDBodyOnly.txt'\n",
    "input_pathA = os.path.join(data_folder, file_nameA)\n",
    "textA = read_input(input_pathA)\n",
    "dfA, numA = preprocess(textA, 0, 256)"
   ]
  },
  {
   "cell_type": "code",
   "execution_count": 10,
   "metadata": {},
   "outputs": [],
   "source": [
    "#\n",
    "#Arthur Conan Doyle\n",
    "#"
   ]
  },
  {
   "cell_type": "code",
   "execution_count": 11,
   "metadata": {},
   "outputs": [],
   "source": [
    "file_nameB = 'ACDBodyOnly.txt'\n",
    "input_pathB = os.path.join(data_folder, file_nameB)\n",
    "textB = read_input(input_pathB)\n",
    "dfB, numB = preprocess(textB, 1, 256)"
   ]
  },
  {
   "cell_type": "code",
   "execution_count": 12,
   "metadata": {},
   "outputs": [],
   "source": [
    "#\n",
    "#Jane Austen\n",
    "#"
   ]
  },
  {
   "cell_type": "code",
   "execution_count": 13,
   "metadata": {},
   "outputs": [],
   "source": [
    "file_nameC = 'JABodyOnly.txt'\n",
    "input_pathC = os.path.join(data_folder, file_nameC)\n",
    "textC = read_input(input_pathC)\n",
    "dfC, numC = preprocess(textC, 2, 256)"
   ]
  },
  {
   "cell_type": "code",
   "execution_count": 14,
   "metadata": {},
   "outputs": [],
   "source": [
    "# Combine these sample into same and split them by percentage\n",
    "# Into Training and Validation Data\n",
    "\n",
    "df = pd.concat([dfA,dfB,dfC])\n",
    "x = df['paragraph']\n",
    "y = df['label']\n",
    "x_train, x_valid, y_train, y_valid = train_test_split(x, y, test_size=0.25, random_state=20)\n",
    "y_train = y_train.astype(int)\n",
    "y_valid = y_valid.astype(int)"
   ]
  },
  {
   "cell_type": "code",
   "execution_count": 15,
   "metadata": {},
   "outputs": [],
   "source": [
    "# Use TF-IDF features to build the training set removing bottom 5% and 90% words as well as stop_words\n",
    "tfidf_vect = TfidfVectorizer(max_df=0.9,min_df=0.05,stop_words = 'english', use_idf=True)\n",
    "data_train = tfidf_vect.fit_transform(x_train)\n",
    "data_valid = tfidf_vect.transform(x_valid)"
   ]
  },
  {
   "cell_type": "code",
   "execution_count": 16,
   "metadata": {},
   "outputs": [],
   "source": [
    "label_train = to_categorical(y_train)\n",
    "label_valid = to_categorical(y_valid)\n",
    "train_label = convert_to_mat(y_train)\n",
    "valid_label = convert_to_mat(y_valid)"
   ]
  },
  {
   "cell_type": "code",
   "execution_count": 17,
   "metadata": {},
   "outputs": [],
   "source": [
    "#\n",
    "#Compare to Implemented TF-IDF\n",
    "#"
   ]
  },
  {
   "cell_type": "code",
   "execution_count": null,
   "metadata": {},
   "outputs": [],
   "source": []
  },
  {
   "cell_type": "code",
   "execution_count": 18,
   "metadata": {},
   "outputs": [],
   "source": [
    "alpha = .01\n",
    "batch = 4\n",
    "stepsize = 0.1 \n",
    "weight_mini, values, lost = mini_batch_sgd(data_train.todense(), label_train, batch, stepsize, alpha, max_epoch=100, weight=None)"
   ]
  },
  {
   "cell_type": "code",
   "execution_count": 19,
   "metadata": {},
   "outputs": [
    {
     "data": {
      "text/plain": [
       "[<matplotlib.lines.Line2D at 0x7fc2a8ca4690>]"
      ]
     },
     "execution_count": 19,
     "metadata": {},
     "output_type": "execute_result"
    },
    {
     "data": {
      "image/png": "[encoded data removed]",
      "text/plain": [
       "<Figure size 432x288 with 2 Axes>"
      ]
     },
     "metadata": {
      "needs_background": "light"
     },
     "output_type": "display_data"
    }
   ],
   "source": [
    "plt.subplot(1,2,1)\n",
    "plt.plot(lost)\n",
    "plt.subplot(1,2,2)\n",
    "plt.plot(values)"
   ]
  },
  {
   "cell_type": "code",
   "execution_count": 29,
   "metadata": {},
   "outputs": [],
   "source": [
    "alpha = .1\n",
    "batch = 8\n",
    "stepsize = 0.1\n",
    "weight_mini, values, lost = mini_batch_sgd(data_train.todense(), label_train, batch, stepsize, alpha, max_epoch=100, weight=None)"
   ]
  },
  {
   "cell_type": "code",
   "execution_count": 30,
   "metadata": {},
   "outputs": [
    {
     "data": {
      "text/plain": [
       "[<matplotlib.lines.Line2D at 0x7fc2a8da7590>]"
      ]
     },
     "execution_count": 30,
     "metadata": {},
     "output_type": "execute_result"
    },
    {
     "data": {
      "image/png": "[encoded data removed]",
      "text/plain": [
       "<Figure size 432x288 with 2 Axes>"
      ]
     },
     "metadata": {
      "needs_background": "light"
     },
     "output_type": "display_data"
    }
   ],
   "source": [
    "plt.subplot(1,2,1)\n",
    "plt.plot(lost)\n",
    "plt.subplot(1,2,2)\n",
    "plt.plot(values)"
   ]
  },
  {
   "cell_type": "code",
   "execution_count": 44,
   "metadata": {},
   "outputs": [],
   "source": [
    "alpha = .01\n",
    "stepsize = 0.1\n",
    "weight, values_sg, lost_sg = sgd(data_train.todense(), label_train, stepsize, alpha, max_epoch=100, weight=None)"
   ]
  },
  {
   "cell_type": "code",
   "execution_count": 45,
   "metadata": {},
   "outputs": [
    {
     "data": {
      "text/plain": [
       "[<matplotlib.lines.Line2D at 0x7fc2aa272c50>]"
      ]
     },
     "execution_count": 45,
     "metadata": {},
     "output_type": "execute_result"
    },
    {
     "data": {
      "image/png": "[encoded data removed]",
      "text/plain": [
       "<Figure size 432x288 with 2 Axes>"
      ]
     },
     "metadata": {
      "needs_background": "light"
     },
     "output_type": "display_data"
    }
   ],
   "source": [
    "plt.subplot(1,2,1)\n",
    "plt.plot(lost_sg)\n",
    "plt.subplot(1,2,2)\n",
    "plt.plot(values_sg)"
   ]
  },
  {
   "cell_type": "code",
   "execution_count": 61,
   "metadata": {},
   "outputs": [],
   "source": [
    "alpha = .01\n",
    "stepsize = 0.2\n",
    "weight, values_sg, lost_sg = sgd(data_train.todense(), label_train, stepsize, alpha, max_epoch=200, weight=None)"
   ]
  },
  {
   "cell_type": "code",
   "execution_count": 62,
   "metadata": {},
   "outputs": [
    {
     "data": {
      "text/plain": [
       "[<matplotlib.lines.Line2D at 0x7fc2b1a11f10>]"
      ]
     },
     "execution_count": 62,
     "metadata": {},
     "output_type": "execute_result"
    },
    {
     "data": {
      "image/png": "[encoded data removed]",
      "text/plain": [
       "<Figure size 432x288 with 2 Axes>"
      ]
     },
     "metadata": {
      "needs_background": "light"
     },
     "output_type": "display_data"
    }
   ],
   "source": [
    "plt.subplot(1,2,1)\n",
    "plt.plot(lost_sg)\n",
    "plt.subplot(1,2,2)\n",
    "plt.plot(values_sg)"
   ]
  },
  {
   "cell_type": "code",
   "execution_count": 36,
   "metadata": {},
   "outputs": [],
   "source": [
    "def predict_softmax(weight, x_input):\n",
    "    theta = guess(weight, x_input)\n",
    "    prediction = softmax(theta).T\n",
    "    df = pd.DataFrame(prediction)\n",
    "    x_predict = df.idxmax(axis=1, skipna=True)\n",
    "    return x_predict\n",
    "   \n",
    "def evalution_softmax(y_label, y_predict):\n",
    "    result = metrics.classification_report(y_label, y_predict)\n",
    "    print(result)"
   ]
  },
  {
   "cell_type": "code",
   "execution_count": 23,
   "metadata": {},
   "outputs": [
    {
     "name": "stdout",
     "output_type": "stream",
     "text": [
      "              precision    recall  f1-score   support\n",
      "\n",
      "           0       1.00      0.97      0.98        62\n",
      "           1       0.93      1.00      0.97        70\n",
      "           2       1.00      0.95      0.97        60\n",
      "\n",
      "    accuracy                           0.97       192\n",
      "   macro avg       0.98      0.97      0.97       192\n",
      "weighted avg       0.98      0.97      0.97       192\n",
      "\n"
     ]
    }
   ],
   "source": [
    "# Evalute the result of Mini-batch SGD\n",
    "y_predict_mbsgd = predict_softmax(weight_mini, data_valid.todense())\n",
    "evalution_softmax(y_valid, y_predict_mbsgd)"
   ]
  },
  {
   "cell_type": "code",
   "execution_count": 24,
   "metadata": {},
   "outputs": [
    {
     "name": "stdout",
     "output_type": "stream",
     "text": [
      "              precision    recall  f1-score   support\n",
      "\n",
      "           0       0.95      1.00      0.98        62\n",
      "           1       1.00      0.83      0.91        70\n",
      "           2       0.87      1.00      0.93        60\n",
      "\n",
      "    accuracy                           0.94       192\n",
      "   macro avg       0.94      0.94      0.94       192\n",
      "weighted avg       0.94      0.94      0.94       192\n",
      "\n"
     ]
    }
   ],
   "source": [
    "# Evalute the result of SGD\n",
    "y_predict_sgd = predict_softmax(weight, data_valid.todense())\n",
    "evalution_softmax(y_valid, y_predict_sgd)"
   ]
  },
  {
   "cell_type": "code",
   "execution_count": null,
   "metadata": {},
   "outputs": [],
   "source": []
  },
  {
   "cell_type": "code",
   "execution_count": 25,
   "metadata": {},
   "outputs": [
    {
     "data": {
      "text/plain": [
       "MLPClassifier(activation='relu', alpha=0.01, batch_size='auto', beta_1=0.9,\n",
       "              beta_2=0.999, early_stopping=False, epsilon=1e-08,\n",
       "              hidden_layer_sizes=(9, 5), learning_rate='constant',\n",
       "              learning_rate_init=0.001, max_fun=15000, max_iter=100,\n",
       "              momentum=0.9, n_iter_no_change=10, nesterovs_momentum=True,\n",
       "              power_t=0.5, random_state=1, shuffle=True, solver='lbfgs',\n",
       "              tol=0.0001, validation_fraction=0.1, verbose=False,\n",
       "              warm_start=False)"
      ]
     },
     "execution_count": 25,
     "metadata": {},
     "output_type": "execute_result"
    }
   ],
   "source": [
    "classifier = MLPClassifier(solver='lbfgs', alpha=.01, hidden_layer_sizes=(9, 5),\n",
    "                           max_iter=100, activation ='relu', random_state=1,\n",
    "                          learning_rate='constant')\n",
    "\n",
    "classifier.fit(data_train.todense(), label_train)"
   ]
  },
  {
   "cell_type": "code",
   "execution_count": null,
   "metadata": {},
   "outputs": [],
   "source": []
  },
  {
   "cell_type": "code",
   "execution_count": 43,
   "metadata": {},
   "outputs": [
    {
     "name": "stdout",
     "output_type": "stream",
     "text": [
      "              precision    recall  f1-score   support\n",
      "\n",
      "           0       0.98      1.00      0.99        62\n",
      "           1       1.00      1.00      1.00        70\n",
      "           2       1.00      1.00      1.00        60\n",
      "\n",
      "   micro avg       0.99      1.00      1.00       192\n",
      "   macro avg       0.99      1.00      1.00       192\n",
      "weighted avg       0.99      1.00      1.00       192\n",
      " samples avg       1.00      1.00      1.00       192\n",
      "\n"
     ]
    }
   ],
   "source": [
    "y_predict_mlp = classifier.predict(data_valid.todense())\n",
    "evalution_softmax(valid_label, y_predict_mlp)"
   ]
  },
  {
   "cell_type": "code",
   "execution_count": 74,
   "metadata": {},
   "outputs": [
    {
     "name": "stdout",
     "output_type": "stream",
     "text": [
      "              precision    recall  f1-score   support\n",
      "\n",
      "           0       0.07      0.06      0.07        62\n",
      "           1       0.95      1.00      0.97        70\n",
      "           2       1.00      0.92      0.96        60\n",
      "\n",
      "   micro avg       0.69      0.67      0.68       192\n",
      "   macro avg       0.67      0.66      0.67       192\n",
      "weighted avg       0.68      0.67      0.67       192\n",
      " samples avg       0.52      0.67      0.57       192\n",
      "\n"
     ]
    },
    {
     "name": "stderr",
     "output_type": "stream",
     "text": [
      "/Users/jig728/opt/anaconda3/lib/python3.7/site-packages/sklearn/metrics/_classification.py:1272: UndefinedMetricWarning: Precision and F-score are ill-defined and being set to 0.0 in samples with no predicted labels. Use `zero_division` parameter to control this behavior.\n",
      "  _warn_prf(average, modifier, msg_start, len(result))\n"
     ]
    }
   ],
   "source": [
    "classifier = MLPClassifier(solver='lbfgs', alpha=.001, hidden_layer_sizes=(3, 9, 13, 9, 3),\n",
    "                           max_iter=1000, activation ='relu', random_state=1,\n",
    "                          learning_rate='constant')\n",
    "\n",
    "classifier.fit(data_train.todense(), label_train)\n",
    "y_predict_mlp = classifier.predict(data_valid.todense())\n",
    "evalution_softmax(valid_label, y_predict_mlp)"
   ]
  },
  {
   "cell_type": "code",
   "execution_count": null,
   "metadata": {},
   "outputs": [],
   "source": [
    "#END"
   ]
  },
  {
   "cell_type": "code",
   "execution_count": null,
   "metadata": {},
   "outputs": [],
   "source": [
    "# final_words = set(word_colA).union(set(word_colB)).union(set(word_colC))\n",
    "# idfs = computeIDF(train_sampleA + train_sampleB + train_sampleC, final_words)\n",
    "\n",
    "# vfinal_words = set(vword_colA).union(set(vword_colB)).union(set(vword_colC))\n",
    "# vidfs = computeIDF(valid_sampleA + valid_sampleB + valid_sampleC, final_words)\n",
    "\n",
    "# print(len(final_words))\n",
    "\n",
    "# tfidfA = computeTFIDF(tfA, idfs, 0)\n",
    "# tfidfB = computeTFIDF(tfB, idfs, 1)\n",
    "# tfidfC = computeTFIDF(tfC, idfs, 2)\n",
    "# df = pandas.DataFrame(tfidfA + tfidfB + tfidfC)\n",
    "\n",
    "# vtfidfA = computeTFIDF(vtfA, idfs, 0)\n",
    "# vtfidfB = computeTFIDF(vtfB, idfs, 1)\n",
    "# vtfidfC = computeTFIDF(vtfC, idfs, 2)\n",
    "# vdf = pandas.DataFrame(vtfidfA + vtfidfB + vtfidfC)"
   ]
  },
  {
   "cell_type": "markdown",
   "metadata": {},
   "source": [
    "#### Conclusion\n",
    "- For Logistic Regression model with L2 regularization\n",
    "  - With mini-batch gradient descent: alpha = 0.01\n",
    "  - With stochastic gradient descent: alpha = 0.01\n",
    "  - Using cross-validation the alpha of .1 with bigger batch size reduces the fluxuation\n",
    "- For Multilayer Perceptron (MLP) model\n",
    "  - The number of neurons : n = 2 with 9, 5 node respectively\n",
    "  - Additional MLP neurons does not seems to change the accuracy too much with respective values process\n",
    "  \n",
    "      - 1. From the report above, we find that the Multilayer Perceptron (MLP) model has the best in accuracy rate, average recall and average precision. Logistic regression with Mini-Batch of size 4 is slightly better than stoastic \n",
    "    - 2. There was no obvious pattern of which category has slightly better prediction rate due to data set size and number of words due to equal dataset number with various number of words"
   ]
  },
  {
   "cell_type": "code",
   "execution_count": null,
   "metadata": {},
   "outputs": [],
   "source": []
  }
 ],
 "metadata": {
  "kernelspec": {
   "display_name": "Python 3",
   "language": "python",
   "name": "python3"
  },
  "language_info": {
   "codemirror_mode": {
    "name": "ipython",
    "version": 3
   },
   "file_extension": ".py",
   "mimetype": "text/x-python",
   "name": "python",
   "nbconvert_exporter": "python",
   "pygments_lexer": "ipython3",
   "version": "3.7.6"
  }
 },
 "nbformat": 4,
 "nbformat_minor": 4
}
