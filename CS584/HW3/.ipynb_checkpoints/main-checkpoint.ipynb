{
 "cells": [
  {
   "cell_type": "markdown",
   "metadata": {},
   "source": [
    "### CS584 Assignment 3 David Fu"
   ]
  },
  {
   "cell_type": "markdown",
   "metadata": {},
   "source": [
    "##### Packages and Imports"
   ]
  },
  {
   "cell_type": "code",
   "execution_count": 1,
   "metadata": {},
   "outputs": [
    {
     "name": "stderr",
     "output_type": "stream",
     "text": [
      "Using TensorFlow backend.\n",
      "/Users/jig728/opt/anaconda3/lib/python3.7/site-packages/tensorflow/python/framework/dtypes.py:516: FutureWarning: Passing (type, 1) or '1type' as a synonym of type is deprecated; in a future version of numpy, it will be understood as (type, (1,)) / '(1,)type'.\n",
      "  _np_qint8 = np.dtype([(\"qint8\", np.int8, 1)])\n",
      "/Users/jig728/opt/anaconda3/lib/python3.7/site-packages/tensorflow/python/framework/dtypes.py:517: FutureWarning: Passing (type, 1) or '1type' as a synonym of type is deprecated; in a future version of numpy, it will be understood as (type, (1,)) / '(1,)type'.\n",
      "  _np_quint8 = np.dtype([(\"quint8\", np.uint8, 1)])\n",
      "/Users/jig728/opt/anaconda3/lib/python3.7/site-packages/tensorflow/python/framework/dtypes.py:518: FutureWarning: Passing (type, 1) or '1type' as a synonym of type is deprecated; in a future version of numpy, it will be understood as (type, (1,)) / '(1,)type'.\n",
      "  _np_qint16 = np.dtype([(\"qint16\", np.int16, 1)])\n",
      "/Users/jig728/opt/anaconda3/lib/python3.7/site-packages/tensorflow/python/framework/dtypes.py:519: FutureWarning: Passing (type, 1) or '1type' as a synonym of type is deprecated; in a future version of numpy, it will be understood as (type, (1,)) / '(1,)type'.\n",
      "  _np_quint16 = np.dtype([(\"quint16\", np.uint16, 1)])\n",
      "/Users/jig728/opt/anaconda3/lib/python3.7/site-packages/tensorflow/python/framework/dtypes.py:520: FutureWarning: Passing (type, 1) or '1type' as a synonym of type is deprecated; in a future version of numpy, it will be understood as (type, (1,)) / '(1,)type'.\n",
      "  _np_qint32 = np.dtype([(\"qint32\", np.int32, 1)])\n",
      "/Users/jig728/opt/anaconda3/lib/python3.7/site-packages/tensorflow/python/framework/dtypes.py:525: FutureWarning: Passing (type, 1) or '1type' as a synonym of type is deprecated; in a future version of numpy, it will be understood as (type, (1,)) / '(1,)type'.\n",
      "  np_resource = np.dtype([(\"resource\", np.ubyte, 1)])\n",
      "/Users/jig728/opt/anaconda3/lib/python3.7/site-packages/tensorboard/compat/tensorflow_stub/dtypes.py:541: FutureWarning: Passing (type, 1) or '1type' as a synonym of type is deprecated; in a future version of numpy, it will be understood as (type, (1,)) / '(1,)type'.\n",
      "  _np_qint8 = np.dtype([(\"qint8\", np.int8, 1)])\n",
      "/Users/jig728/opt/anaconda3/lib/python3.7/site-packages/tensorboard/compat/tensorflow_stub/dtypes.py:542: FutureWarning: Passing (type, 1) or '1type' as a synonym of type is deprecated; in a future version of numpy, it will be understood as (type, (1,)) / '(1,)type'.\n",
      "  _np_quint8 = np.dtype([(\"quint8\", np.uint8, 1)])\n",
      "/Users/jig728/opt/anaconda3/lib/python3.7/site-packages/tensorboard/compat/tensorflow_stub/dtypes.py:543: FutureWarning: Passing (type, 1) or '1type' as a synonym of type is deprecated; in a future version of numpy, it will be understood as (type, (1,)) / '(1,)type'.\n",
      "  _np_qint16 = np.dtype([(\"qint16\", np.int16, 1)])\n",
      "/Users/jig728/opt/anaconda3/lib/python3.7/site-packages/tensorboard/compat/tensorflow_stub/dtypes.py:544: FutureWarning: Passing (type, 1) or '1type' as a synonym of type is deprecated; in a future version of numpy, it will be understood as (type, (1,)) / '(1,)type'.\n",
      "  _np_quint16 = np.dtype([(\"quint16\", np.uint16, 1)])\n",
      "/Users/jig728/opt/anaconda3/lib/python3.7/site-packages/tensorboard/compat/tensorflow_stub/dtypes.py:545: FutureWarning: Passing (type, 1) or '1type' as a synonym of type is deprecated; in a future version of numpy, it will be understood as (type, (1,)) / '(1,)type'.\n",
      "  _np_qint32 = np.dtype([(\"qint32\", np.int32, 1)])\n",
      "/Users/jig728/opt/anaconda3/lib/python3.7/site-packages/tensorboard/compat/tensorflow_stub/dtypes.py:550: FutureWarning: Passing (type, 1) or '1type' as a synonym of type is deprecated; in a future version of numpy, it will be understood as (type, (1,)) / '(1,)type'.\n",
      "  np_resource = np.dtype([(\"resource\", np.ubyte, 1)])\n"
     ]
    }
   ],
   "source": [
    "import os\n",
    "import pandas as pd\n",
    "import re\n",
    "import math\n",
    "import nltk\n",
    "from nltk import word_tokenize, KneserNeyProbDist, SimpleGoodTuringProbDist, FreqDist, trigrams\n",
    "from nltk.corpus import stopwords\n",
    "from nltk.lm import Vocabulary, MLE\n",
    "from nltk.lm.models import KneserNeyInterpolated,Lidstone\n",
    "from nltk.lm.smoothing import KneserNey, WittenBell\n",
    "from nltk.lm.api import Smoothing\n",
    "from nltk.lm.preprocessing import pad_both_ends, padded_everygram_pipeline\n",
    "from keras.optimizers import Adam\n",
    "from keras.preprocessing.text import Tokenizer\n",
    "from keras.utils import to_categorical\n",
    "from keras.models import Sequential\n",
    "from keras.layers import Dense, Dropout, BatchNormalization, LSTM,Embedding\n",
    "from keras.preprocessing.sequence import pad_sequences\n",
    "import keras.backend as backend\n",
    "import numpy as np\n",
    "import matplotlib.pyplot as plt\n"
   ]
  },
  {
   "cell_type": "markdown",
   "metadata": {},
   "source": [
    "###### Basic Reusable Function"
   ]
  },
  {
   "cell_type": "code",
   "execution_count": 2,
   "metadata": {},
   "outputs": [],
   "source": [
    "\"\"\"\n",
    "READS Text File and return all of body as a string\n",
    "\"\"\"\n",
    "def read_input(input_path:str) -> str:\n",
    "    file_data = open(input_path , 'r')\n",
    "    return file_data.read()\n",
    "\n",
    "\"\"\"\n",
    "Use regex to remove punctuation, numbers and multi spaces\n",
    "\"\"\"\n",
    "def clean_text(text:str):\n",
    "    clean = re.sub('<unk>', '', text)\n",
    "    clean = re.sub('N', '', clean)\n",
    "    return re.sub(' +', ' ', clean)"
   ]
  },
  {
   "cell_type": "markdown",
   "metadata": {},
   "source": [
    "##### Build Tokenizer and Vocabulary"
   ]
  },
  {
   "cell_type": "code",
   "execution_count": 3,
   "metadata": {},
   "outputs": [],
   "source": [
    "\"\"\"\n",
    "Read text file and convert to token and vocabulary\n",
    "\"\"\"\n",
    "train_text = clean_text(read_input('./a3-data/train.txt'))\n",
    "valid_text = clean_text(read_input('./a3-data/valid.txt'))\n",
    "\n",
    "train_input = clean_text(train_text)\n",
    "valid_input = clean_text(valid_text)\n",
    "train_tokens = nltk.word_tokenize(train_input)\n",
    "valid_tokens = nltk.word_tokenize(valid_input)\n",
    "\n",
    "train_vocab = Vocabulary(train_tokens, unk_cutoff=3)\n",
    "valid_vocab = Vocabulary(valid_tokens, unk_cutoff=3)"
   ]
  },
  {
   "cell_type": "code",
   "execution_count": 4,
   "metadata": {},
   "outputs": [
    {
     "name": "stdout",
     "output_type": "stream",
     "text": [
      "9947\n",
      "2889\n"
     ]
    }
   ],
   "source": [
    "print(len(train_vocab))\n",
    "print(len(valid_vocab))"
   ]
  },
  {
   "cell_type": "code",
   "execution_count": 5,
   "metadata": {},
   "outputs": [],
   "source": [
    "\"\"\"\n",
    "Regular expression to find sentenses and convert them to sets of 3 words for trigram model\n",
    "\"\"\"\n",
    "sentence_regex = lambda x: re.split(r'(?<!\\w\\.\\w.)(?<![A-Z][a-z]\\.)(?<=\\.|\\?)\\s', x)\n",
    "train_token = [list(map(str.lower, word_tokenize(sentence))) for sentence in sentence_regex(train_text)]\n",
    "valid_token = [list(map(str.lower, word_tokenize(sentence))) for sentence in sentence_regex(valid_text)]\n",
    "\n",
    "train, vocab_train = padded_everygram_pipeline(3, train_token)\n",
    "test, vocab_test = padded_everygram_pipeline(3, valid_token)"
   ]
  },
  {
   "cell_type": "markdown",
   "metadata": {},
   "source": [
    "##### Build Trigram N-Gram Model"
   ]
  },
  {
   "cell_type": "code",
   "execution_count": 6,
   "metadata": {},
   "outputs": [
    {
     "data": {
      "text/plain": [
       "0"
      ]
     },
     "execution_count": 6,
     "metadata": {},
     "output_type": "execute_result"
    }
   ],
   "source": [
    "\"\"\"\n",
    "Declar the gram model of length 3 and check the vocabuary list\n",
    "\"\"\"\n",
    "n3gram = MLE(3)\n",
    "len(n3gram.vocab)"
   ]
  },
  {
   "cell_type": "code",
   "execution_count": 7,
   "metadata": {},
   "outputs": [
    {
     "data": {
      "text/plain": [
       "9959"
      ]
     },
     "execution_count": 7,
     "metadata": {},
     "output_type": "execute_result"
    }
   ],
   "source": [
    "\"\"\"\n",
    "Fit the model to the training dataset with vacabulary and trainning data\n",
    "\"\"\"\n",
    "n3gram.fit(train, vocab_train)\n",
    "len(n3gram.vocab)"
   ]
  },
  {
   "cell_type": "code",
   "execution_count": 8,
   "metadata": {},
   "outputs": [
    {
     "name": "stdout",
     "output_type": "stream",
     "text": [
      "<NgramCounter with 3 ngram orders and 2573544 ngrams>\n"
     ]
    }
   ],
   "source": [
    "\"\"\"\n",
    "Check basic result of the trigram model by count of ngrams\n",
    "\"\"\"\n",
    "print(n3gram.counts)"
   ]
  },
  {
   "cell_type": "code",
   "execution_count": 9,
   "metadata": {},
   "outputs": [
    {
     "name": "stdout",
     "output_type": "stream",
     "text": [
      "0.03286384976525822\n",
      "1.0\n"
     ]
    }
   ],
   "source": [
    "\"\"\"\n",
    "Pull a few example trigram from the Text hard coded to see if the probability is present\n",
    "\"\"\"\n",
    "print(n3gram.score('post', 'washington'.split()))\n",
    "\n",
    "print(n3gram.score('institute', 'national cancer'.split()))"
   ]
  },
  {
   "cell_type": "markdown",
   "metadata": {},
   "source": [
    "##### Good Turing smoothing"
   ]
  },
  {
   "cell_type": "code",
   "execution_count": 10,
   "metadata": {},
   "outputs": [
    {
     "name": "stdout",
     "output_type": "stream",
     "text": [
      "<SimpleGoodTuringProbDist based on 4766534 samples>\n"
     ]
    }
   ],
   "source": [
    "\"\"\"\n",
    "Using trigram model with frequency distribution to simple Turning Distirbution for normalization\n",
    "\"\"\"\n",
    "ngrams = trigrams(train_text)\n",
    "freq_dist = FreqDist(ngrams)\n",
    "turing = SimpleGoodTuringProbDist(freq_dist)\n",
    "\n",
    "print(turing)"
   ]
  },
  {
   "cell_type": "code",
   "execution_count": 11,
   "metadata": {},
   "outputs": [
    {
     "name": "stdout",
     "output_type": "stream",
     "text": [
      "<KneserNeyProbDist based on 4766534 trigrams\n"
     ]
    }
   ],
   "source": [
    "\"\"\"\n",
    "Create a KnesnerNeyDistribution\n",
    "\"\"\"\n",
    "kneser = KneserNeyProbDist(freq_dist)\n",
    "print(kneser)"
   ]
  },
  {
   "cell_type": "code",
   "execution_count": 12,
   "metadata": {},
   "outputs": [],
   "source": [
    "\"\"\"\n",
    "Model it to Trigram with the input data set and vocabulary\n",
    "\"\"\"\n",
    "kn = KneserNeyInterpolated(3)\n",
    "kn.fit(train, vocab_train)"
   ]
  },
  {
   "cell_type": "code",
   "execution_count": 13,
   "metadata": {},
   "outputs": [],
   "source": [
    "\"\"\"\n",
    "Set up a basic model to test sliding window of the trigram with sets of 30 from the validation data\n",
    "\"\"\"\n",
    "\n",
    "windows = []\n",
    "for i in range(29, len(valid_tokens)):\n",
    "    window = valid_tokens[i-29: i+1]\n",
    "    windows.append(window)\n",
    "previous_29 = [i[:-1] for i in windows]\n",
    "actual_30 = [''.join(i[-1:]) for i in windows]\n",
    "\n",
    "predict_word = [n3gram.generate(1,text_seed=i, random_seed=13) for i in previous_29]"
   ]
  },
  {
   "cell_type": "code",
   "execution_count": 14,
   "metadata": {},
   "outputs": [
    {
     "name": "stdout",
     "output_type": "stream",
     "text": [
      "The predict word: \n",
      "['nine', 'her', 'now', 'locations', 'houses', 'five', 'cents', 'feet', 'ago', 'citicorp', 'call', 'document', 'economic', 'broadcast', 'electronics', 'in', 'early', 'for', 'recession', 'of', 'contributions', 'as', 'access', 'projects', 'for', 'is', 'dollar', 'guard', 'program', 'in']\n",
      "\n",
      "The actual word in test set:\n",
      "['years', 'from', 'among', 'four', 'or', 'five', 'two', 'weeks', 'ago', 'viewers', 'of', 'several', 'nbc', 'consumer', 'segments', 'started', 'calling', 'a', 'number', 'for', 'advice', 'on', 'various', 'issues', 'and', 'the', 'new', 'syndicated', 'reality', 'show']\n"
     ]
    }
   ],
   "source": [
    "print('The predict word: ')\n",
    "print(predict_word[:30])\n",
    "print('\\nThe actual word in test set:')\n",
    "print(actual_30[:30])"
   ]
  },
  {
   "cell_type": "markdown",
   "metadata": {},
   "source": [
    "##### Perplexity and Accuracy"
   ]
  },
  {
   "cell_type": "code",
   "execution_count": 15,
   "metadata": {},
   "outputs": [
    {
     "name": "stdout",
     "output_type": "stream",
     "text": [
      "The accuracy of Predicting the next word in sliding window : 0.108417\n"
     ]
    }
   ],
   "source": [
    "correct = 0\n",
    "for i in range(len(predict_word)):\n",
    "    if actual_30[i] == predict_word[i]:\n",
    "        correct += 1\n",
    "print('The accuracy of Predicting the next word in sliding window : %f' % (correct/len(predict_word)))"
   ]
  },
  {
   "cell_type": "code",
   "execution_count": 16,
   "metadata": {},
   "outputs": [
    {
     "name": "stdout",
     "output_type": "stream",
     "text": [
      "The perplexity scores of ngram model on test set is :10031.680732\n"
     ]
    }
   ],
   "source": [
    "perplexity = np.array([n3gram.perplexity(i) for i in valid_tokens])\n",
    "perplexity_ngram = np.ma.masked_invalid(perplexity).mean()\n",
    "print('The perplexity scores of ngram model on test set is :%f' % perplexity_ngram)"
   ]
  },
  {
   "cell_type": "markdown",
   "metadata": {},
   "source": [
    "###### 30 line prediction"
   ]
  },
  {
   "cell_type": "code",
   "execution_count": 17,
   "metadata": {},
   "outputs": [
    {
     "data": {
      "text/plain": [
       "[\"but while the new york stock exchange did n't fall ___\",\n",
       " 'some circuit breakers installed after the october N crash failed ___',\n",
       " 'the N stock specialist firms on the big board floor ___',\n",
       " 'big investment banks refused to step up to the plate ___',\n",
       " \"heavy selling of standard & poor 's 500-stock index futures ___\",\n",
       " 'seven big board stocks ual amr bankamerica walt disney capital ___',\n",
       " 'once again the specialists were not able to handle the ___',\n",
       " '<unk> james <unk> chairman of specialists henderson brothers inc. it ___',\n",
       " 'when the dollar is in a <unk> even central banks ___',\n",
       " 'speculators are calling for a degree of liquidity that is ___',\n",
       " 'many money managers and some traders had already left their ___',\n",
       " 'then in a <unk> plunge the dow jones industrials in ___',\n",
       " '<unk> trading accelerated to N million shares a record for ___',\n",
       " 'at the end of the day N million shares were ___',\n",
       " \"the dow 's decline was second in point terms only ___\",\n",
       " \"in percentage terms however the dow 's dive was the ___\",\n",
       " 'shares of ual the parent of united airlines were extremely ___',\n",
       " \"wall street 's takeover-stock speculators or risk arbitragers had placed ___\",\n",
       " 'at N p.m. edt came the <unk> news the big ___',\n",
       " 'on the exchange floor as soon as ual stopped trading ___',\n",
       " 'several traders could be seen shaking their heads when the ___',\n",
       " 'for weeks the market had been nervous about takeovers after ___',\n",
       " 'and N minutes after the ual trading halt came news ___',\n",
       " \"arbitragers could n't dump their ual stock but they rid ___\",\n",
       " 'for example their selling caused trading halts to be declared ___',\n",
       " 'but as panic spread speculators began to sell blue-chip stocks ___',\n",
       " 'when trading was halted in philip morris the stock was ___',\n",
       " 'selling <unk> because of waves of automatic stop-loss orders which ___',\n",
       " 'most of the stock selling pressure came from wall street ___',\n",
       " 'traders said most of their major institutional investors on the ___']"
      ]
     },
     "execution_count": 17,
     "metadata": {},
     "output_type": "execute_result"
    }
   ],
   "source": [
    "input_text = read_input('./a3-data/input.txt')\n",
    "input_sent = input_text.split('\\n')\n",
    "first_30 = input_sent[0:30]\n",
    "first_30"
   ]
  },
  {
   "cell_type": "code",
   "execution_count": 18,
   "metadata": {},
   "outputs": [
    {
     "name": "stdout",
     "output_type": "stream",
     "text": [
      "\n",
      "Example 1:\n",
      "['but', 'while', 'the', 'new', 'york', 'stock', 'exchange', 'did', \"n't\", 'fall']\n",
      "but while the new york stock exchange did n't fall ___  predict: the\n",
      "\n",
      "Example 2:\n",
      "['some', 'circuit', 'breakers', 'installed', 'after', 'the', 'october', 'N', 'crash', 'failed']\n",
      "some circuit breakers installed after the october N crash failed ___  predict: to\n",
      "\n",
      "Example 3:\n",
      "['the', 'N', 'stock', 'specialist', 'firms', 'on', 'the', 'big', 'board', 'floor']\n",
      "the N stock specialist firms on the big board floor ___  predict: at\n",
      "\n",
      "Example 4:\n",
      "['big', 'investment', 'banks', 'refused', 'to', 'step', 'up', 'to', 'the', 'plate']\n",
      "big investment banks refused to step up to the plate ___  predict: is\n",
      "\n",
      "Example 5:\n",
      "['heavy', 'selling', 'of', 'standard', '&', 'poor', \"'s\", '500-stock', 'index', 'futures']\n",
      "heavy selling of standard & poor 's 500-stock index futures ___  predict: is\n",
      "\n",
      "Example 6:\n",
      "['seven', 'big', 'board', 'stocks', 'ual', 'amr', 'bankamerica', 'walt', 'disney', 'capital']\n",
      "seven big board stocks ual amr bankamerica walt disney capital ___  predict: international\n",
      "\n",
      "Example 7:\n",
      "['once', 'again', 'the', 'specialists', 'were', 'not', 'able', 'to', 'handle', 'the']\n",
      "once again the specialists were not able to handle the ___  predict: earthquake-related\n",
      "\n",
      "Example 8:\n",
      "['<unk>', 'james', '<unk>', 'chairman', 'of', 'specialists', 'henderson', 'brothers', 'inc.', 'it']\n",
      "<unk> james <unk> chairman of specialists henderson brothers inc. it ___  predict: is\n",
      "\n",
      "Example 9:\n",
      "['when', 'the', 'dollar', 'is', 'in', 'a', '<unk>', 'even', 'central', 'banks']\n",
      "when the dollar is in a <unk> even central banks ___  predict: of\n",
      "\n",
      "Example 10:\n",
      "['speculators', 'are', 'calling', 'for', 'a', 'degree', 'of', 'liquidity', 'that', 'is']\n",
      "speculators are calling for a degree of liquidity that is ___  predict: larger\n",
      "\n",
      "Example 11:\n",
      "['many', 'money', 'managers', 'and', 'some', 'traders', 'had', 'already', 'left', 'their']\n",
      "many money managers and some traders had already left their ___  predict: last\n",
      "\n",
      "Example 12:\n",
      "['then', 'in', 'a', '<unk>', 'plunge', 'the', 'dow', 'jones', 'industrials', 'in']\n",
      "then in a <unk> plunge the dow jones industrials in ___  predict: new\n",
      "\n",
      "Example 13:\n",
      "['<unk>', 'trading', 'accelerated', 'to', 'N', 'million', 'shares', 'a', 'record', 'for']\n",
      "<unk> trading accelerated to N million shares a record for ___  predict: elections\n",
      "\n",
      "Example 14:\n",
      "['at', 'the', 'end', 'of', 'the', 'day', 'N', 'million', 'shares', 'were']\n",
      "at the end of the day N million shares were ___  predict: outstanding\n",
      "\n",
      "Example 15:\n",
      "['the', 'dow', \"'s\", 'decline', 'was', 'second', 'in', 'point', 'terms', 'only']\n",
      "the dow 's decline was second in point terms only ___  predict: limited\n",
      "\n",
      "Example 16:\n",
      "['in', 'percentage', 'terms', 'however', 'the', 'dow', \"'s\", 'dive', 'was', 'the']\n",
      "in percentage terms however the dow 's dive was the ___  predict: lead\n",
      "\n",
      "Example 17:\n",
      "['shares', 'of', 'ual', 'the', 'parent', 'of', 'united', 'airlines', 'were', 'extremely']\n",
      "shares of ual the parent of united airlines were extremely ___  predict: pleased\n",
      "\n",
      "Example 18:\n",
      "['wall', 'street', \"'s\", 'takeover-stock', 'speculators', 'or', 'risk', 'arbitragers', 'had', 'placed']\n",
      "wall street 's takeover-stock speculators or risk arbitragers had placed ___  predict: directly\n",
      "\n",
      "Example 19:\n",
      "['at', 'N', 'p.m.', 'edt', 'came', 'the', '<unk>', 'news', 'the', 'big']\n",
      "at N p.m. edt came the <unk> news the big ___  predict: board\n",
      "\n",
      "Example 20:\n",
      "['on', 'the', 'exchange', 'floor', 'as', 'soon', 'as', 'ual', 'stopped', 'trading']\n",
      "on the exchange floor as soon as ual stopped trading ___  predict: altogether\n",
      "\n",
      "Example 21:\n",
      "['several', 'traders', 'could', 'be', 'seen', 'shaking', 'their', 'heads', 'when', 'the']\n",
      "several traders could be seen shaking their heads when the ___  predict: issuing\n",
      "\n",
      "Example 22:\n",
      "['for', 'weeks', 'the', 'market', 'had', 'been', 'nervous', 'about', 'takeovers', 'after']\n",
      "for weeks the market had been nervous about takeovers after ___  predict: ms\n",
      "\n",
      "Example 23:\n",
      "['and', 'N', 'minutes', 'after', 'the', 'ual', 'trading', 'halt', 'came', 'news']\n",
      "and N minutes after the ual trading halt came news ___  predict: of\n",
      "\n",
      "Example 24:\n",
      "['arbitragers', 'could', \"n't\", 'dump', 'their', 'ual', 'stock', 'but', 'they', 'rid']\n",
      "arbitragers could n't dump their ual stock but they rid ___  predict: of\n",
      "\n",
      "Example 25:\n",
      "['for', 'example', 'their', 'selling', 'caused', 'trading', 'halts', 'to', 'be', 'declared']\n",
      "for example their selling caused trading halts to be declared ___  predict: in\n",
      "\n",
      "Example 26:\n",
      "['but', 'as', 'panic', 'spread', 'speculators', 'began', 'to', 'sell', 'blue-chip', 'stocks']\n",
      "but as panic spread speculators began to sell blue-chip stocks ___  predict: posted\n",
      "\n",
      "Example 27:\n",
      "['when', 'trading', 'was', 'halted', 'in', 'philip', 'morris', 'the', 'stock', 'was']\n",
      "when trading was halted in philip morris the stock was ___  predict: dragged\n",
      "\n",
      "Example 28:\n",
      "['selling', '<unk>', 'because', 'of', 'waves', 'of', 'automatic', 'stop-loss', 'orders', 'which']\n",
      "selling <unk> because of waves of automatic stop-loss orders which ___  predict: are\n",
      "\n",
      "Example 29:\n",
      "['most', 'of', 'the', 'stock', 'selling', 'pressure', 'came', 'from', 'wall', 'street']\n",
      "most of the stock selling pressure came from wall street ___  predict: is\n",
      "\n",
      "Example 30:\n",
      "['traders', 'said', 'most', 'of', 'their', 'major', 'institutional', 'investors', 'on', 'the']\n",
      "traders said most of their major institutional investors on the ___  predict: line\n"
     ]
    }
   ],
   "source": [
    "\"\"\"\n",
    "Use model to predict the 30 lines in the sample input sentenses\n",
    "\"\"\"\n",
    "for i in range(30):\n",
    "    print('\\nExample %d:' % (i+1))\n",
    "    token = first_30[i][:-3].split()\n",
    "    print(token)\n",
    "    predict_word = n3gram.generate(1,text_seed=token, random_seed=9)\n",
    "    result = first_30[i] + '  predict: ' + predict_word\n",
    "    print(result)"
   ]
  },
  {
   "cell_type": "markdown",
   "metadata": {},
   "source": [
    "### RNN"
   ]
  },
  {
   "cell_type": "code",
   "execution_count": 19,
   "metadata": {},
   "outputs": [
    {
     "name": "stdout",
     "output_type": "stream",
     "text": [
      "Vocabulary Size: 9649\n",
      "Total windows: 810124\n",
      "Window size: 20\n"
     ]
    }
   ],
   "source": [
    "\"\"\"\n",
    "Using the tokenizer to the training restrain input and encode the words to a number setting window size to 20 for trainning data\n",
    "\"\"\"\n",
    "\n",
    "tokenizer = Tokenizer()\n",
    "tokenizer.fit_on_texts([train_input])\n",
    "encoded_word = tokenizer.texts_to_sequences([train_input])[0]\n",
    "\n",
    "vocab_size = len(tokenizer.word_index) + 1\n",
    "print('Vocabulary Size: %d' % vocab_size)\n",
    "\n",
    "windows = []\n",
    "for i in range(19, len(encoded_word)):\n",
    "    window = encoded_word[i-19:i+1]\n",
    "    windows.append(window)\n",
    "print('Total windows: %d' % len(windows))\n",
    "\n",
    "max_length = max([len(seq) for seq in windows])\n",
    "windows = pad_sequences(windows, maxlen=max_length, padding='pre')\n",
    "print('Window size: %d' % max_length)\n",
    "\n",
    "X_train, y = windows[:,:-1],windows[:,-1]\n",
    "y_train = to_categorical(y, num_classes=vocab_size)"
   ]
  },
  {
   "cell_type": "code",
   "execution_count": 20,
   "metadata": {},
   "outputs": [
    {
     "name": "stdout",
     "output_type": "stream",
     "text": [
      "Vocabulary Size: 9649\n",
      "Total Windows: 64231\n",
      "Window size: 20\n"
     ]
    }
   ],
   "source": [
    "\"\"\"\n",
    "Using the tokenizer to the training restrain input and encode the words to a number setting window size to 20 for validation data\n",
    "\"\"\"\n",
    "\n",
    "tokenizer.fit_on_texts([valid_input])\n",
    "encoded_2 = tokenizer.texts_to_sequences([valid_input])[0]\n",
    "\n",
    "vocab_size_2 = len(tokenizer.word_index) + 1\n",
    "print('Vocabulary Size: %d' % vocab_size_2)\n",
    "\n",
    "windows2 = []\n",
    "for i in range(19, len(encoded_2)):\n",
    "    window2 = encoded_2[i-19:i+1]\n",
    "    windows2.append(window2)\n",
    "print('Total Windows: %d' % len(windows2))\n",
    "# pad sequences\n",
    "max_length = max([len(seq) for seq in windows2])\n",
    "windows2 = pad_sequences(windows2, maxlen=max_length, padding='pre')\n",
    "print('Window size: %d' % max_length)\n",
    "# split into input and output elements\n",
    "X_test, y = windows2[:,:-1],windows2[:,-1]\n",
    "y_test = to_categorical(y, num_classes=vocab_size)"
   ]
  },
  {
   "cell_type": "code",
   "execution_count": 24,
   "metadata": {},
   "outputs": [
    {
     "name": "stdout",
     "output_type": "stream",
     "text": [
      "Model: \"sequential_2\"\n",
      "_________________________________________________________________\n",
      "Layer (type)                 Output Shape              Param #   \n",
      "=================================================================\n",
      "embedding_2 (Embedding)      (None, 19, 10)            96490     \n",
      "_________________________________________________________________\n",
      "lstm_2 (LSTM)                (None, 40)                8160      \n",
      "_________________________________________________________________\n",
      "dropout_2 (Dropout)          (None, 40)                0         \n",
      "_________________________________________________________________\n",
      "dense_2 (Dense)              (None, 9649)              395609    \n",
      "=================================================================\n",
      "Total params: 500,259\n",
      "Trainable params: 500,259\n",
      "Non-trainable params: 0\n",
      "_________________________________________________________________\n",
      "None\n"
     ]
    }
   ],
   "source": [
    "\"\"\"\n",
    "Set up sequentail model setting vocab with LSTM to predict the word\n",
    "\"\"\"\n",
    "\n",
    "model = Sequential()\n",
    "model.add(Embedding(vocab_size, 10, input_length=max_length-1))\n",
    "model.add(LSTM(40))\n",
    "model.add(Dropout(0.4))\n",
    "model.add(Dense(vocab_size, activation='softmax'))\n",
    "print(model.summary())"
   ]
  },
  {
   "cell_type": "code",
   "execution_count": 25,
   "metadata": {},
   "outputs": [],
   "source": [
    "def perplexity(y_predict, y_label):\n",
    "    return backend.exp(backend.categorical_crossentropy(y_predict, y_label))"
   ]
  },
  {
   "cell_type": "code",
   "execution_count": null,
   "metadata": {},
   "outputs": [
    {
     "name": "stdout",
     "output_type": "stream",
     "text": [
      "Epoch 1/50\n",
      "810124/810124 [==============================] - 951s 1ms/step - loss: 6.7471 - perplexity: 16825394.0000\n",
      "Epoch 2/50\n",
      "810124/810124 [==============================] - 873s 1ms/step - loss: 6.3174 - perplexity: 68885480.0000\n",
      "Epoch 3/50\n",
      "810124/810124 [==============================] - 838s 1ms/step - loss: 6.1088 - perplexity: 14838622.0000\n",
      "Epoch 4/50\n",
      "810124/810124 [==============================] - 948s 1ms/step - loss: 5.9979 - perplexity: 1857811120128.0000\n",
      "Epoch 5/50\n",
      "810124/810124 [==============================] - 969s 1ms/step - loss: 5.9273 - perplexity: 1302272896.0000\n",
      "Epoch 6/50\n",
      "810124/810124 [==============================] - 801s 989us/step - loss: 5.8769 - perplexity: 90790445056.0000\n",
      "Epoch 7/50\n",
      "810124/810124 [==============================] - 1195s 1ms/step - loss: 5.8393 - perplexity: 16426799.0000\n",
      "Epoch 8/50\n",
      "810124/810124 [==============================] - 1103s 1ms/step - loss: 5.8116 - perplexity: 23635978.0000\n",
      "Epoch 9/50\n",
      "810124/810124 [==============================] - 925s 1ms/step - loss: 5.7907 - perplexity: 395299.0312\n",
      "Epoch 10/50\n",
      "402300/810124 [=============>................] - ETA: 8:58 - loss: 5.7636 - perplexity: 66704.9297"
     ]
    }
   ],
   "source": [
    "\"\"\"\n",
    "Set up model for calculation with bath size 50 and epochs 100\n",
    "\"\"\"\n",
    "\n",
    "optimizer = Adam(learning_rate=0.001)\n",
    "model.compile(loss='categorical_crossentropy', optimizer=optimizer,metrics=[perplexity])\n",
    "\n",
    "model.fit(X_train, y_train, epochs=50, verbose=1, batch_size=50)"
   ]
  },
  {
   "cell_type": "code",
   "execution_count": null,
   "metadata": {},
   "outputs": [],
   "source": [
    "\"\"\"\n",
    "Write the model to file to be reused\n",
    "\"\"\"\n",
    "\n",
    "model_json = model.to_json()\n",
    "with open(\"model50v2.json\", \"w\") as json_file:\n",
    "    json_file.write(model_json)\n",
    "# serialize weights to HDF5\n",
    "model.save_weights(\"model50v2.h5\")"
   ]
  },
  {
   "cell_type": "code",
   "execution_count": null,
   "metadata": {},
   "outputs": [],
   "source": [
    "\"\"\"\n",
    "For rapid reload instead of rerunning everytime\n",
    "\"\"\"\n",
    "\n",
    "\n",
    "\"\"\"\n",
    "\n",
    "json_file = open('model50.json', 'r')\n",
    "loaded_model_json = json_file.read()\n",
    "json_file.close()\n",
    "loaded_model = model_from_json(loaded_model_json)\n",
    "\n",
    "loaded_model.load_weights(\"model50.h5\")\n",
    "\n",
    "\n",
    "\"\"\""
   ]
  },
  {
   "cell_type": "code",
   "execution_count": null,
   "metadata": {},
   "outputs": [],
   "source": [
    "\"\"\"\n",
    "Check the model and calculate the perplexity\n",
    "\"\"\"\n",
    "\n",
    "loss_and_per = model.evaluate(X_test, y_test)\n",
    "loss = loss_and_per[0]\n",
    "perplexity_test = loss_and_per[1]\n",
    "print('loss = ' + str(loss))\n",
    "print('perplexity = ' + str(loss_and_acc[1]))"
   ]
  },
  {
   "cell_type": "code",
   "execution_count": null,
   "metadata": {},
   "outputs": [],
   "source": [
    "\"\"\"\n",
    "Using given value for proof\n",
    "\"\"\"\n",
    "sample_size = 64231\n",
    "batch_size = 50\n",
    "number_of_predictions = 1284\n",
    "\n",
    "total_loss = loss*sample_size/batch_size\n",
    "aim = np.exp(total_loss/number_of_predictions)\n",
    "print(aim)"
   ]
  },
  {
   "cell_type": "code",
   "execution_count": null,
   "metadata": {},
   "outputs": [],
   "source": [
    "\"\"\"\n",
    "Use RNN for prediction\n",
    "\"\"\"\n",
    "def rnn_predict(text):\n",
    "    encoded = tokenizer.texts_to_sequences([text])[0]\n",
    "    \n",
    "    encoded = pad_sequences([encoded], maxlen=max_length-1, padding='pre')\n",
    "    \n",
    "    y_predict_class = model.predict_classes(encoded, verbose=0)\n",
    "   \n",
    "    predict_word = ''\n",
    "    for word, index in tokenizer.word_index.items():\n",
    "        if index == y_predict_class:\n",
    "            predict_word = word\n",
    "            break\n",
    "    \n",
    "    result = text.rstrip() + ' prediction: ' + predict_word\n",
    "    print(result)\n"
   ]
  },
  {
   "cell_type": "code",
   "execution_count": null,
   "metadata": {},
   "outputs": [],
   "source": [
    "\"\"\"\n",
    "Print the result of the 30 predictions\n",
    "\"\"\"\n",
    "for i in range(30):\n",
    "    text = first_30[i]\n",
    "    print('\\nExample ' + str(i+1) + ':')\n",
    "    rnn_predict(text)"
   ]
  },
  {
   "cell_type": "code",
   "execution_count": null,
   "metadata": {},
   "outputs": [],
   "source": []
  }
 ],
 "metadata": {
  "kernelspec": {
   "display_name": "Python 3",
   "language": "python",
   "name": "python3"
  },
  "language_info": {
   "codemirror_mode": {
    "name": "ipython",
    "version": 3
   },
   "file_extension": ".py",
   "mimetype": "text/x-python",
   "name": "python",
   "nbconvert_exporter": "python",
   "pygments_lexer": "ipython3",
   "version": "3.7.6"
  }
 },
 "nbformat": 4,
 "nbformat_minor": 4
}
